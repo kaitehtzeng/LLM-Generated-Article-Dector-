{
 "cells": [
  {
   "cell_type": "code",
   "execution_count": 1,
   "id": "35f7f451",
   "metadata": {
    "_cell_guid": "b1076dfc-b9ad-4769-8c92-a6c4dae69d19",
    "_uuid": "8f2839f25d086af736a60e9eeb907d3b93b6e0e5",
    "execution": {
     "iopub.execute_input": "2024-01-28T22:01:19.944974Z",
     "iopub.status.busy": "2024-01-28T22:01:19.944687Z",
     "iopub.status.idle": "2024-01-28T22:01:20.650264Z",
     "shell.execute_reply": "2024-01-28T22:01:20.649361Z"
    },
    "papermill": {
     "duration": 0.718575,
     "end_time": "2024-01-28T22:01:20.652536",
     "exception": false,
     "start_time": "2024-01-28T22:01:19.933961",
     "status": "completed"
    },
    "tags": []
   },
   "outputs": [
    {
     "name": "stdout",
     "output_type": "stream",
     "text": [
      "/kaggle/input/daigt-proper-train-dataset/train_drcat_03.csv\n",
      "/kaggle/input/daigt-proper-train-dataset/train_drcat_02.csv\n",
      "/kaggle/input/daigt-proper-train-dataset/train_drcat_04.csv\n",
      "/kaggle/input/daigt-proper-train-dataset/train_drcat_01.csv\n",
      "/kaggle/input/fine-tune-model/my_model.pth\n",
      "/kaggle/input/fine-tune-model/__results__.html\n",
      "/kaggle/input/fine-tune-model/__notebook__.ipynb\n",
      "/kaggle/input/fine-tune-model/__output__.json\n",
      "/kaggle/input/fine-tune-model/custom.css\n",
      "/kaggle/input/fine-tune-model/__results___files/__results___30_1.png\n",
      "/kaggle/input/transformers-model-downloader-pytorch-tf2-0/__results__.html\n",
      "/kaggle/input/transformers-model-downloader-pytorch-tf2-0/__notebook__.ipynb\n",
      "/kaggle/input/transformers-model-downloader-pytorch-tf2-0/__output__.json\n",
      "/kaggle/input/transformers-model-downloader-pytorch-tf2-0/custom.css\n",
      "/kaggle/input/transformers-model-downloader-pytorch-tf2-0/microsoft/deberta-v3-base/spm.model\n",
      "/kaggle/input/transformers-model-downloader-pytorch-tf2-0/microsoft/deberta-v3-base/config.json\n",
      "/kaggle/input/transformers-model-downloader-pytorch-tf2-0/microsoft/deberta-v3-base/tokenizer.json\n",
      "/kaggle/input/transformers-model-downloader-pytorch-tf2-0/microsoft/deberta-v3-base/tokenizer_config.json\n",
      "/kaggle/input/transformers-model-downloader-pytorch-tf2-0/microsoft/deberta-v3-base/pytorch_model.bin\n",
      "/kaggle/input/transformers-model-downloader-pytorch-tf2-0/microsoft/deberta-v3-base/special_tokens_map.json\n",
      "/kaggle/input/transformers-model-downloader-pytorch-tf2-0/microsoft/deberta-v3-base/added_tokens.json\n",
      "/kaggle/input/llm-detect-ai-generated-text/sample_submission.csv\n",
      "/kaggle/input/llm-detect-ai-generated-text/train_prompts.csv\n",
      "/kaggle/input/llm-detect-ai-generated-text/test_essays.csv\n",
      "/kaggle/input/llm-detect-ai-generated-text/train_essays.csv\n",
      "/kaggle/input/argugpt/argugpt.csv\n",
      "/kaggle/input/argugpt/machine-dev.csv\n",
      "/kaggle/input/argugpt/machine-test.csv\n",
      "/kaggle/input/argugpt/machine-train.csv\n"
     ]
    }
   ],
   "source": [
    "# This Python 3 environment comes with many helpful analytics libraries installed\n",
    "# It is defined by the kaggle/python Docker image: https://github.com/kaggle/docker-python\n",
    "# For example, here's several helpful packages to load\n",
    "\n",
    "import numpy as np # linear algebra\n",
    "import pandas as pd # data processing, CSV file I/O (e.g. pd.read_csv)\n",
    "\n",
    "# Input data files are available in the read-only \"../input/\" directory\n",
    "# For example, running this (by clicking run or pressing Shift+Enter) will list all files under the input directory\n",
    "\n",
    "import os\n",
    "for dirname, _, filenames in os.walk('/kaggle/input'):\n",
    "    for filename in filenames:\n",
    "        print(os.path.join(dirname, filename))\n",
    "\n",
    "# You can write up to 20GB to the current directory (/kaggle/working/) that gets preserved as output when you create a version using \"Save & Run All\" \n",
    "# You can also write temporary files to /kaggle/temp/, but they won't be saved outside of the current session"
   ]
  },
  {
   "cell_type": "code",
   "execution_count": null,
   "id": "de4a598e",
   "metadata": {
    "papermill": {
     "duration": 0.009184,
     "end_time": "2024-01-28T22:01:20.671361",
     "exception": false,
     "start_time": "2024-01-28T22:01:20.662177",
     "status": "completed"
    },
    "tags": []
   },
   "outputs": [],
   "source": []
  },
  {
   "cell_type": "markdown",
   "id": "1b2f9abd",
   "metadata": {
    "papermill": {
     "duration": 0.009379,
     "end_time": "2024-01-28T22:01:20.690165",
     "exception": false,
     "start_time": "2024-01-28T22:01:20.680786",
     "status": "completed"
    },
    "tags": []
   },
   "source": [
    "## Import Necessary Library"
   ]
  },
  {
   "cell_type": "code",
   "execution_count": 2,
   "id": "4e2e2667",
   "metadata": {
    "execution": {
     "iopub.execute_input": "2024-01-28T22:01:20.709943Z",
     "iopub.status.busy": "2024-01-28T22:01:20.709547Z",
     "iopub.status.idle": "2024-01-28T22:01:27.433536Z",
     "shell.execute_reply": "2024-01-28T22:01:27.432732Z"
    },
    "papermill": {
     "duration": 6.736306,
     "end_time": "2024-01-28T22:01:27.435729",
     "exception": false,
     "start_time": "2024-01-28T22:01:20.699423",
     "status": "completed"
    },
    "tags": []
   },
   "outputs": [
    {
     "name": "stderr",
     "output_type": "stream",
     "text": [
      "/opt/conda/lib/python3.10/site-packages/scipy/__init__.py:146: UserWarning: A NumPy version >=1.16.5 and <1.23.0 is required for this version of SciPy (detected version 1.24.3\n",
      "  warnings.warn(f\"A NumPy version >={np_minversion} and <{np_maxversion}\"\n"
     ]
    }
   ],
   "source": [
    "import torch.nn.functional as F\n",
    "from transformers import AutoModel\n",
    "from transformers import AutoTokenizer\n",
    "from tokenizers import Tokenizer, trainers, pre_tokenizers, models\n",
    "from transformers import DebertaTokenizer\n",
    "from sklearn.model_selection import train_test_split\n",
    "import torch\n",
    "import torch.nn as nn\n",
    "import numpy as np\n",
    "import pandas as pd\n",
    "from tqdm.notebook import tqdm\n",
    "import matplotlib.pyplot as plt\n",
    "import nltk\n",
    "from nltk.corpus import stopwords\n",
    "from nltk.tokenize import word_tokenize\n",
    "from nltk.tokenize.treebank import TreebankWordDetokenizer\n",
    "from collections import Counter\n",
    "#import spacy\n",
    "import re\n",
    "import gc\n",
    "# ----------\n",
    "import os"
   ]
  },
  {
   "cell_type": "code",
   "execution_count": 3,
   "id": "aa90aaa6",
   "metadata": {
    "execution": {
     "iopub.execute_input": "2024-01-28T22:01:27.456670Z",
     "iopub.status.busy": "2024-01-28T22:01:27.456259Z",
     "iopub.status.idle": "2024-01-28T22:01:27.509634Z",
     "shell.execute_reply": "2024-01-28T22:01:27.508834Z"
    },
    "papermill": {
     "duration": 0.065842,
     "end_time": "2024-01-28T22:01:27.511490",
     "exception": false,
     "start_time": "2024-01-28T22:01:27.445648",
     "status": "completed"
    },
    "tags": []
   },
   "outputs": [],
   "source": [
    "config = {\n",
    "    'model': '/kaggle/input/transformers-model-downloader-pytorch-tf2-0/microsoft/deberta-v3-base',\n",
    "    'dropout': 0.2,\n",
    "    'max_length': 512,\n",
    "    'batch_size':3,\n",
    "    'epochs': 1,\n",
    "    'lr': 1e-5,\n",
    "    'device': 'cuda' if torch.cuda.is_available() else 'cpu',\n",
    "    'scheduler': 'CosineAnnealingWarmRestarts'\n",
    "}"
   ]
  },
  {
   "cell_type": "markdown",
   "id": "1d61e659",
   "metadata": {
    "papermill": {
     "duration": 0.009433,
     "end_time": "2024-01-28T22:01:27.530450",
     "exception": false,
     "start_time": "2024-01-28T22:01:27.521017",
     "status": "completed"
    },
    "tags": []
   },
   "source": [
    "## Preparation\n",
    "Prepare and split the dataset as the training stage <br>\n",
    "Train the tokenizer"
   ]
  },
  {
   "cell_type": "code",
   "execution_count": 4,
   "id": "4a0b1f3a",
   "metadata": {
    "execution": {
     "iopub.execute_input": "2024-01-28T22:01:27.550444Z",
     "iopub.status.busy": "2024-01-28T22:01:27.550166Z",
     "iopub.status.idle": "2024-01-28T22:01:29.741262Z",
     "shell.execute_reply": "2024-01-28T22:01:29.740464Z"
    },
    "papermill": {
     "duration": 2.203813,
     "end_time": "2024-01-28T22:01:29.743649",
     "exception": false,
     "start_time": "2024-01-28T22:01:27.539836",
     "status": "completed"
    },
    "tags": []
   },
   "outputs": [],
   "source": [
    "train_essays = pd.read_csv(\"/kaggle/input/llm-detect-ai-generated-text/train_essays.csv\")\n",
    "external = pd.read_csv(\"/kaggle/input/daigt-proper-train-dataset/train_drcat_04.csv\")"
   ]
  },
  {
   "cell_type": "code",
   "execution_count": 5,
   "id": "251f7d87",
   "metadata": {
    "execution": {
     "iopub.execute_input": "2024-01-28T22:01:29.764013Z",
     "iopub.status.busy": "2024-01-28T22:01:29.763739Z",
     "iopub.status.idle": "2024-01-28T22:01:29.803341Z",
     "shell.execute_reply": "2024-01-28T22:01:29.802648Z"
    },
    "papermill": {
     "duration": 0.05183,
     "end_time": "2024-01-28T22:01:29.805244",
     "exception": false,
     "start_time": "2024-01-28T22:01:29.753414",
     "status": "completed"
    },
    "tags": []
   },
   "outputs": [],
   "source": [
    "df = pd.concat([\n",
    "    external[external.source==\"persuade_corpus\"].sample(10000,random_state=101),\n",
    "    external[external.source!='persuade_corpus']\n",
    "])\n",
    "df = df.reset_index()"
   ]
  },
  {
   "cell_type": "code",
   "execution_count": 6,
   "id": "3d86aee5",
   "metadata": {
    "execution": {
     "iopub.execute_input": "2024-01-28T22:01:29.826236Z",
     "iopub.status.busy": "2024-01-28T22:01:29.825447Z",
     "iopub.status.idle": "2024-01-28T22:01:29.911029Z",
     "shell.execute_reply": "2024-01-28T22:01:29.910201Z"
    },
    "papermill": {
     "duration": 0.097776,
     "end_time": "2024-01-28T22:01:29.913028",
     "exception": false,
     "start_time": "2024-01-28T22:01:29.815252",
     "status": "completed"
    },
    "tags": []
   },
   "outputs": [],
   "source": [
    "df['stratify'] = df.label.astype(str)+df.source.astype(str)\n",
    "train_df,val_df = train_test_split(df,test_size=0.2,random_state = 101,stratify=df['stratify'])\n",
    "train_df, val_df = train_df.reset_index(), val_df.reset_index()"
   ]
  },
  {
   "cell_type": "code",
   "execution_count": 7,
   "id": "e0d52737",
   "metadata": {
    "execution": {
     "iopub.execute_input": "2024-01-28T22:01:29.933423Z",
     "iopub.status.busy": "2024-01-28T22:01:29.932855Z",
     "iopub.status.idle": "2024-01-28T22:01:29.937624Z",
     "shell.execute_reply": "2024-01-28T22:01:29.936612Z"
    },
    "papermill": {
     "duration": 0.01701,
     "end_time": "2024-01-28T22:01:29.939527",
     "exception": false,
     "start_time": "2024-01-28T22:01:29.922517",
     "status": "completed"
    },
    "tags": []
   },
   "outputs": [
    {
     "name": "stdout",
     "output_type": "stream",
     "text": [
      "transformers version: 4.36.0\n"
     ]
    }
   ],
   "source": [
    "import transformers \n",
    "print('transformers version:', transformers.__version__)"
   ]
  },
  {
   "cell_type": "code",
   "execution_count": 8,
   "id": "4d787155",
   "metadata": {
    "execution": {
     "iopub.execute_input": "2024-01-28T22:01:29.959375Z",
     "iopub.status.busy": "2024-01-28T22:01:29.959105Z",
     "iopub.status.idle": "2024-01-28T22:01:29.962763Z",
     "shell.execute_reply": "2024-01-28T22:01:29.961903Z"
    },
    "papermill": {
     "duration": 0.01564,
     "end_time": "2024-01-28T22:01:29.964629",
     "exception": false,
     "start_time": "2024-01-28T22:01:29.948989",
     "status": "completed"
    },
    "tags": []
   },
   "outputs": [],
   "source": [
    "#train_df,val_df = train_test_split(train_essays,test_size=0.2,random_state = 101)\n",
    "#train_df, val_df = train_df.reset_index(), val_df.reset_index()\n",
    "#print('dataframe shapes:',train_df.shape, val_df.shape)"
   ]
  },
  {
   "cell_type": "code",
   "execution_count": 9,
   "id": "5d078c1f",
   "metadata": {
    "execution": {
     "iopub.execute_input": "2024-01-28T22:01:29.984461Z",
     "iopub.status.busy": "2024-01-28T22:01:29.984219Z",
     "iopub.status.idle": "2024-01-28T22:01:31.891146Z",
     "shell.execute_reply": "2024-01-28T22:01:31.890108Z"
    },
    "papermill": {
     "duration": 1.920093,
     "end_time": "2024-01-28T22:01:31.894229",
     "exception": false,
     "start_time": "2024-01-28T22:01:29.974136",
     "status": "completed"
    },
    "tags": []
   },
   "outputs": [
    {
     "name": "stdout",
     "output_type": "stream",
     "text": [
      "\n",
      "\n"
     ]
    },
    {
     "data": {
      "text/plain": [
       "DebertaV2TokenizerFast(name_or_path='/kaggle/input/transformers-model-downloader-pytorch-tf2-0/microsoft/deberta-v3-base', vocab_size=16815, model_max_length=1000000000000000019884624838656, is_fast=True, padding_side='right', truncation_side='right', special_tokens={'bos_token': '[CLS]', 'eos_token': '[SEP]', 'unk_token': '[UNK]', 'sep_token': '[SEP]', 'pad_token': '[PAD]', 'cls_token': '[CLS]', 'mask_token': '[MASK]'}, clean_up_tokenization_spaces=True),  added_tokens_decoder={\n",
       "\t0: AddedToken(\"[PAD]\", rstrip=False, lstrip=False, single_word=False, normalized=False, special=True),\n",
       "\t1: AddedToken(\"[CLS]\", rstrip=False, lstrip=False, single_word=False, normalized=False, special=True),\n",
       "\t2: AddedToken(\"[SEP]\", rstrip=False, lstrip=False, single_word=False, normalized=False, special=True),\n",
       "\t3: AddedToken(\"[UNK]\", rstrip=False, lstrip=False, single_word=False, normalized=False, special=True),\n",
       "\t4: AddedToken(\"[MASK]\", rstrip=False, lstrip=False, single_word=False, normalized=False, special=True),\n",
       "}"
      ]
     },
     "execution_count": 9,
     "metadata": {},
     "output_type": "execute_result"
    }
   ],
   "source": [
    "tokenizer = AutoTokenizer.from_pretrained(config['model'])\n",
    "tokenizer.train_new_from_iterator(train_essays['text'], 52000)"
   ]
  },
  {
   "cell_type": "markdown",
   "id": "86d63cf5",
   "metadata": {
    "papermill": {
     "duration": 0.009696,
     "end_time": "2024-01-28T22:01:31.914175",
     "exception": false,
     "start_time": "2024-01-28T22:01:31.904479",
     "status": "completed"
    },
    "tags": []
   },
   "source": [
    "## Building Training Dataset and Loader"
   ]
  },
  {
   "cell_type": "code",
   "execution_count": 10,
   "id": "9e3997ea",
   "metadata": {
    "execution": {
     "iopub.execute_input": "2024-01-28T22:01:31.934970Z",
     "iopub.status.busy": "2024-01-28T22:01:31.934448Z",
     "iopub.status.idle": "2024-01-28T22:01:31.943287Z",
     "shell.execute_reply": "2024-01-28T22:01:31.942453Z"
    },
    "papermill": {
     "duration": 0.021274,
     "end_time": "2024-01-28T22:01:31.945179",
     "exception": false,
     "start_time": "2024-01-28T22:01:31.923905",
     "status": "completed"
    },
    "tags": []
   },
   "outputs": [],
   "source": [
    "class EssayDataset:\n",
    "    def __init__(self, df, config,tokenizer, is_test = False):   \n",
    "        self.df = df\n",
    "        self.tokenizer = tokenizer\n",
    "        self.is_test = is_test\n",
    "        self.config = config\n",
    "    \n",
    "    def token_start(self, idx):\n",
    "        sample_text = self.df.loc[idx,'text']\n",
    "        \n",
    "        tokenized = tokenizer.encode_plus(sample_text,\n",
    "                                          None,\n",
    "                                          add_special_tokens=True,\n",
    "                                          max_length= self.config['max_length'],\n",
    "                                          truncation=True,\n",
    "                                          padding=\"max_length\"\n",
    "                                         )\n",
    "        \n",
    "        inputs = {\n",
    "           \"input_ids\": torch.tensor(tokenized['input_ids'],dtype=torch.long),\n",
    "            \"token_type_ids\": torch.tensor(tokenized['token_type_ids'],dtype=torch.long),\n",
    "            \"attention_mask\": torch.tensor(tokenized['attention_mask'],dtype = torch.long)\n",
    "        } \n",
    "        \n",
    "        return inputs\n",
    "        \n",
    "    \n",
    "    def __getitem__(self,idx):\n",
    "        \n",
    "        input_text = self.token_start(idx)\n",
    "        \n",
    "        if self.is_test:\n",
    "            return input_text\n",
    "        \n",
    "        else:\n",
    "            labels = self.df.loc[idx,'label']\n",
    "            targets = {'labels' : torch.tensor(labels,dtype = torch.float32)}\n",
    "            \n",
    "            return input_text,targets\n",
    "        \n",
    "    def __len__(self):\n",
    "        return len(self.df)"
   ]
  },
  {
   "cell_type": "code",
   "execution_count": 11,
   "id": "f02bf625",
   "metadata": {
    "execution": {
     "iopub.execute_input": "2024-01-28T22:01:31.965589Z",
     "iopub.status.busy": "2024-01-28T22:01:31.965317Z",
     "iopub.status.idle": "2024-01-28T22:01:31.969369Z",
     "shell.execute_reply": "2024-01-28T22:01:31.968583Z"
    },
    "papermill": {
     "duration": 0.01638,
     "end_time": "2024-01-28T22:01:31.971277",
     "exception": false,
     "start_time": "2024-01-28T22:01:31.954897",
     "status": "completed"
    },
    "tags": []
   },
   "outputs": [],
   "source": [
    "eval_ds = EssayDataset(val_df,config,tokenizer = tokenizer,is_test=True)"
   ]
  },
  {
   "cell_type": "code",
   "execution_count": 12,
   "id": "82efe313",
   "metadata": {
    "execution": {
     "iopub.execute_input": "2024-01-28T22:01:31.991748Z",
     "iopub.status.busy": "2024-01-28T22:01:31.991497Z",
     "iopub.status.idle": "2024-01-28T22:01:31.995564Z",
     "shell.execute_reply": "2024-01-28T22:01:31.994788Z"
    },
    "papermill": {
     "duration": 0.016227,
     "end_time": "2024-01-28T22:01:31.997340",
     "exception": false,
     "start_time": "2024-01-28T22:01:31.981113",
     "status": "completed"
    },
    "tags": []
   },
   "outputs": [],
   "source": [
    "eval_loader = torch.utils.data.DataLoader(eval_ds,\n",
    "                          batch_size= config['batch_size'])"
   ]
  },
  {
   "cell_type": "markdown",
   "id": "91818959",
   "metadata": {
    "papermill": {
     "duration": 0.010441,
     "end_time": "2024-01-28T22:01:32.017619",
     "exception": false,
     "start_time": "2024-01-28T22:01:32.007178",
     "status": "completed"
    },
    "tags": []
   },
   "source": [
    "## Build the Model and Insert Trained Weight"
   ]
  },
  {
   "cell_type": "code",
   "execution_count": 13,
   "id": "202a8d6f",
   "metadata": {
    "execution": {
     "iopub.execute_input": "2024-01-28T22:01:32.038203Z",
     "iopub.status.busy": "2024-01-28T22:01:32.037933Z",
     "iopub.status.idle": "2024-01-28T22:01:32.045271Z",
     "shell.execute_reply": "2024-01-28T22:01:32.044442Z"
    },
    "papermill": {
     "duration": 0.019657,
     "end_time": "2024-01-28T22:01:32.047092",
     "exception": false,
     "start_time": "2024-01-28T22:01:32.027435",
     "status": "completed"
    },
    "tags": []
   },
   "outputs": [],
   "source": [
    "class mymodel(nn.Module):\n",
    "    \n",
    "    def __init__(self,config):\n",
    "        super(mymodel,self).__init__()\n",
    "        \n",
    "        self.model_name = config['model']\n",
    "        self.deberta = AutoModel.from_pretrained(self.model_name)\n",
    "#12801 = len(tokenizer)\n",
    "        self.deberta.resize_token_embeddings(128001)\n",
    "        self.dropout = nn.Dropout(config['dropout'])\n",
    "        self.fn0 = nn.Linear(self.deberta.config.hidden_size,256)\n",
    "        self.fn2 = nn.Linear(256,1)\n",
    "        self.pooling = MeanPooling()\n",
    "    \n",
    "    def forward(self, input):\n",
    "        output = self.deberta(**input,return_dict = True)\n",
    "        output = self.pooling(output['last_hidden_state'],input['attention_mask'])\n",
    "        output = self.dropout(output)\n",
    "        output = self.fn0(output)\n",
    "        output = self.dropout(output)\n",
    "        output = self.fn2(output)\n",
    "        output = torch.sigmoid(output)\n",
    "        return output"
   ]
  },
  {
   "cell_type": "code",
   "execution_count": 14,
   "id": "fb914f2b",
   "metadata": {
    "execution": {
     "iopub.execute_input": "2024-01-28T22:01:32.067355Z",
     "iopub.status.busy": "2024-01-28T22:01:32.067082Z",
     "iopub.status.idle": "2024-01-28T22:01:32.072859Z",
     "shell.execute_reply": "2024-01-28T22:01:32.072078Z"
    },
    "papermill": {
     "duration": 0.017961,
     "end_time": "2024-01-28T22:01:32.074702",
     "exception": false,
     "start_time": "2024-01-28T22:01:32.056741",
     "status": "completed"
    },
    "tags": []
   },
   "outputs": [],
   "source": [
    "import torch.nn as nn\n",
    "class MeanPooling(nn.Module):\n",
    "    def __init__(self):\n",
    "        super(MeanPooling,self).__init__()\n",
    "        \n",
    "    \n",
    "    def forward(self,last_hidden_state, attention_mask):\n",
    "        new_weight = attention_mask.unsqueeze(-1).expand(last_hidden_state.size()).float()\n",
    "        final = torch.sum(new_weight*last_hidden_state,1)\n",
    "        total_weight = new_weight.sum(1)\n",
    "        total_weight = torch.clamp(total_weight, min = 1e-9)\n",
    "        mean_embedding = final/total_weight\n",
    "        \n",
    "        return mean_embedding"
   ]
  },
  {
   "cell_type": "code",
   "execution_count": 15,
   "id": "53028171",
   "metadata": {
    "execution": {
     "iopub.execute_input": "2024-01-28T22:01:32.094915Z",
     "iopub.status.busy": "2024-01-28T22:01:32.094660Z",
     "iopub.status.idle": "2024-01-28T22:01:50.310492Z",
     "shell.execute_reply": "2024-01-28T22:01:50.309564Z"
    },
    "papermill": {
     "duration": 18.228196,
     "end_time": "2024-01-28T22:01:50.312555",
     "exception": false,
     "start_time": "2024-01-28T22:01:32.084359",
     "status": "completed"
    },
    "tags": []
   },
   "outputs": [
    {
     "data": {
      "text/plain": [
       "mymodel(\n",
       "  (deberta): DebertaV2Model(\n",
       "    (embeddings): DebertaV2Embeddings(\n",
       "      (word_embeddings): Embedding(128001, 768)\n",
       "      (LayerNorm): LayerNorm((768,), eps=1e-07, elementwise_affine=True)\n",
       "      (dropout): StableDropout()\n",
       "    )\n",
       "    (encoder): DebertaV2Encoder(\n",
       "      (layer): ModuleList(\n",
       "        (0-11): 12 x DebertaV2Layer(\n",
       "          (attention): DebertaV2Attention(\n",
       "            (self): DisentangledSelfAttention(\n",
       "              (query_proj): Linear(in_features=768, out_features=768, bias=True)\n",
       "              (key_proj): Linear(in_features=768, out_features=768, bias=True)\n",
       "              (value_proj): Linear(in_features=768, out_features=768, bias=True)\n",
       "              (pos_dropout): StableDropout()\n",
       "              (dropout): StableDropout()\n",
       "            )\n",
       "            (output): DebertaV2SelfOutput(\n",
       "              (dense): Linear(in_features=768, out_features=768, bias=True)\n",
       "              (LayerNorm): LayerNorm((768,), eps=1e-07, elementwise_affine=True)\n",
       "              (dropout): StableDropout()\n",
       "            )\n",
       "          )\n",
       "          (intermediate): DebertaV2Intermediate(\n",
       "            (dense): Linear(in_features=768, out_features=3072, bias=True)\n",
       "            (intermediate_act_fn): GELUActivation()\n",
       "          )\n",
       "          (output): DebertaV2Output(\n",
       "            (dense): Linear(in_features=3072, out_features=768, bias=True)\n",
       "            (LayerNorm): LayerNorm((768,), eps=1e-07, elementwise_affine=True)\n",
       "            (dropout): StableDropout()\n",
       "          )\n",
       "        )\n",
       "      )\n",
       "      (rel_embeddings): Embedding(512, 768)\n",
       "      (LayerNorm): LayerNorm((768,), eps=1e-07, elementwise_affine=True)\n",
       "    )\n",
       "  )\n",
       "  (dropout): Dropout(p=0.2, inplace=False)\n",
       "  (fn0): Linear(in_features=768, out_features=256, bias=True)\n",
       "  (fn2): Linear(in_features=256, out_features=1, bias=True)\n",
       "  (pooling): MeanPooling()\n",
       ")"
      ]
     },
     "execution_count": 15,
     "metadata": {},
     "output_type": "execute_result"
    }
   ],
   "source": [
    "model = mymodel(config).to(device=config['device'])\n",
    "model.load_state_dict(torch.load('/kaggle/input/fine-tune-model/my_model.pth'))\n",
    "model.eval()"
   ]
  },
  {
   "cell_type": "markdown",
   "id": "de18ad68",
   "metadata": {
    "papermill": {
     "duration": 0.009703,
     "end_time": "2024-01-28T22:01:50.332505",
     "exception": false,
     "start_time": "2024-01-28T22:01:50.322802",
     "status": "completed"
    },
    "tags": []
   },
   "source": [
    "## Validation"
   ]
  },
  {
   "cell_type": "code",
   "execution_count": 16,
   "id": "c000b9da",
   "metadata": {
    "execution": {
     "iopub.execute_input": "2024-01-28T22:01:50.394194Z",
     "iopub.status.busy": "2024-01-28T22:01:50.393429Z",
     "iopub.status.idle": "2024-01-28T22:04:43.475719Z",
     "shell.execute_reply": "2024-01-28T22:04:43.474906Z"
    },
    "papermill": {
     "duration": 173.0957,
     "end_time": "2024-01-28T22:04:43.478060",
     "exception": false,
     "start_time": "2024-01-28T22:01:50.382360",
     "status": "completed"
    },
    "tags": []
   },
   "outputs": [],
   "source": [
    "preds = []\n",
    "for (inputs) in eval_loader:\n",
    "        inputs = {k:inputs[k].to(device=config['device']) for k in inputs.keys()}\n",
    "            \n",
    "        outputs = model(inputs)\n",
    "        preds.append(outputs.detach().cpu())\n",
    "            \n",
    "preds = torch.concat(preds)\n",
    "            \n"
   ]
  },
  {
   "cell_type": "code",
   "execution_count": 17,
   "id": "a00ab830",
   "metadata": {
    "execution": {
     "iopub.execute_input": "2024-01-28T22:04:43.499965Z",
     "iopub.status.busy": "2024-01-28T22:04:43.499672Z",
     "iopub.status.idle": "2024-01-28T22:04:43.505571Z",
     "shell.execute_reply": "2024-01-28T22:04:43.504871Z"
    },
    "papermill": {
     "duration": 0.018809,
     "end_time": "2024-01-28T22:04:43.507466",
     "exception": false,
     "start_time": "2024-01-28T22:04:43.488657",
     "status": "completed"
    },
    "tags": []
   },
   "outputs": [],
   "source": [
    "val_df['preds'] = preds.numpy()\n",
    "val_df['AI'] = val_df['preds']>0.5"
   ]
  },
  {
   "cell_type": "code",
   "execution_count": 18,
   "id": "fd179472",
   "metadata": {
    "execution": {
     "iopub.execute_input": "2024-01-28T22:04:43.528125Z",
     "iopub.status.busy": "2024-01-28T22:04:43.527833Z",
     "iopub.status.idle": "2024-01-28T22:04:43.548594Z",
     "shell.execute_reply": "2024-01-28T22:04:43.547740Z"
    },
    "papermill": {
     "duration": 0.033044,
     "end_time": "2024-01-28T22:04:43.550410",
     "exception": false,
     "start_time": "2024-01-28T22:04:43.517366",
     "status": "completed"
    },
    "tags": []
   },
   "outputs": [
    {
     "data": {
      "text/html": [
       "<div>\n",
       "<style scoped>\n",
       "    .dataframe tbody tr th:only-of-type {\n",
       "        vertical-align: middle;\n",
       "    }\n",
       "\n",
       "    .dataframe tbody tr th {\n",
       "        vertical-align: top;\n",
       "    }\n",
       "\n",
       "    .dataframe thead th {\n",
       "        text-align: right;\n",
       "    }\n",
       "</style>\n",
       "<table border=\"1\" class=\"dataframe\">\n",
       "  <thead>\n",
       "    <tr style=\"text-align: right;\">\n",
       "      <th></th>\n",
       "      <th>level_0</th>\n",
       "      <th>index</th>\n",
       "      <th>essay_id</th>\n",
       "      <th>text</th>\n",
       "      <th>label</th>\n",
       "      <th>source</th>\n",
       "      <th>prompt</th>\n",
       "      <th>fold</th>\n",
       "      <th>stratify</th>\n",
       "      <th>preds</th>\n",
       "      <th>AI</th>\n",
       "    </tr>\n",
       "  </thead>\n",
       "  <tbody>\n",
       "    <tr>\n",
       "      <th>0</th>\n",
       "      <td>24614</td>\n",
       "      <td>35296</td>\n",
       "      <td>F610C7BCD9EC</td>\n",
       "      <td>As an eighth-grade student, I believe that att...</td>\n",
       "      <td>1</td>\n",
       "      <td>mistral7binstruct_v1</td>\n",
       "      <td>NaN</td>\n",
       "      <td>3</td>\n",
       "      <td>1mistral7binstruct_v1</td>\n",
       "      <td>0.999989</td>\n",
       "      <td>True</td>\n",
       "    </tr>\n",
       "    <tr>\n",
       "      <th>1</th>\n",
       "      <td>9200</td>\n",
       "      <td>13516</td>\n",
       "      <td>1C8564154C20</td>\n",
       "      <td>Dear, TEACHER_NAME, I think the rule for no ce...</td>\n",
       "      <td>0</td>\n",
       "      <td>persuade_corpus</td>\n",
       "      <td>NaN</td>\n",
       "      <td>4</td>\n",
       "      <td>0persuade_corpus</td>\n",
       "      <td>0.003226</td>\n",
       "      <td>False</td>\n",
       "    </tr>\n",
       "    <tr>\n",
       "      <th>2</th>\n",
       "      <td>16015</td>\n",
       "      <td>14628</td>\n",
       "      <td>4f6e7659</td>\n",
       "      <td>[Your Name]\\n[Your Address]\\n[City, State, ZIP...</td>\n",
       "      <td>1</td>\n",
       "      <td>radek_500</td>\n",
       "      <td>NaN</td>\n",
       "      <td>6</td>\n",
       "      <td>1radek_500</td>\n",
       "      <td>0.999986</td>\n",
       "      <td>True</td>\n",
       "    </tr>\n",
       "    <tr>\n",
       "      <th>3</th>\n",
       "      <td>19839</td>\n",
       "      <td>23655</td>\n",
       "      <td>falcon_180b_v1_215</td>\n",
       "      <td>I completely disagree with the principal's dec...</td>\n",
       "      <td>1</td>\n",
       "      <td>falcon_180b_v1</td>\n",
       "      <td>Your principal has decided that all students m...</td>\n",
       "      <td>1</td>\n",
       "      <td>1falcon_180b_v1</td>\n",
       "      <td>0.999989</td>\n",
       "      <td>True</td>\n",
       "    </tr>\n",
       "    <tr>\n",
       "      <th>4</th>\n",
       "      <td>4425</td>\n",
       "      <td>41792</td>\n",
       "      <td>CACD190CAD6D</td>\n",
       "      <td>I am against the value of using this technolog...</td>\n",
       "      <td>0</td>\n",
       "      <td>persuade_corpus</td>\n",
       "      <td>NaN</td>\n",
       "      <td>3</td>\n",
       "      <td>0persuade_corpus</td>\n",
       "      <td>0.000933</td>\n",
       "      <td>False</td>\n",
       "    </tr>\n",
       "    <tr>\n",
       "      <th>...</th>\n",
       "      <td>...</td>\n",
       "      <td>...</td>\n",
       "      <td>...</td>\n",
       "      <td>...</td>\n",
       "      <td>...</td>\n",
       "      <td>...</td>\n",
       "      <td>...</td>\n",
       "      <td>...</td>\n",
       "      <td>...</td>\n",
       "      <td>...</td>\n",
       "      <td>...</td>\n",
       "    </tr>\n",
       "    <tr>\n",
       "      <th>5637</th>\n",
       "      <td>7912</td>\n",
       "      <td>16816</td>\n",
       "      <td>0E233FF39D2B</td>\n",
       "      <td>In twenty five years there had appeared someth...</td>\n",
       "      <td>0</td>\n",
       "      <td>persuade_corpus</td>\n",
       "      <td>NaN</td>\n",
       "      <td>0</td>\n",
       "      <td>0persuade_corpus</td>\n",
       "      <td>0.000228</td>\n",
       "      <td>False</td>\n",
       "    </tr>\n",
       "    <tr>\n",
       "      <th>5638</th>\n",
       "      <td>25614</td>\n",
       "      <td>37810</td>\n",
       "      <td>66241AEC8351</td>\n",
       "      <td>Changing our school menu to more nutritious o...</td>\n",
       "      <td>1</td>\n",
       "      <td>mistral7binstruct_v2</td>\n",
       "      <td>\\nTask: Research the benefits of eating health...</td>\n",
       "      <td>4</td>\n",
       "      <td>1mistral7binstruct_v2</td>\n",
       "      <td>0.999988</td>\n",
       "      <td>True</td>\n",
       "    </tr>\n",
       "    <tr>\n",
       "      <th>5639</th>\n",
       "      <td>26124</td>\n",
       "      <td>39089</td>\n",
       "      <td>darragh_claude_v7_417</td>\n",
       "      <td>The use of facial expression recognition techn...</td>\n",
       "      <td>1</td>\n",
       "      <td>darragh_claude_v7</td>\n",
       "      <td>In the article \"Making Mona Lisa Smile,\" the a...</td>\n",
       "      <td>8</td>\n",
       "      <td>1darragh_claude_v7</td>\n",
       "      <td>0.999989</td>\n",
       "      <td>True</td>\n",
       "    </tr>\n",
       "    <tr>\n",
       "      <th>5640</th>\n",
       "      <td>6434</td>\n",
       "      <td>5525</td>\n",
       "      <td>34A590772E2D</td>\n",
       "      <td>We have all been in situations were we need ad...</td>\n",
       "      <td>0</td>\n",
       "      <td>persuade_corpus</td>\n",
       "      <td>NaN</td>\n",
       "      <td>1</td>\n",
       "      <td>0persuade_corpus</td>\n",
       "      <td>0.000234</td>\n",
       "      <td>False</td>\n",
       "    </tr>\n",
       "    <tr>\n",
       "      <th>5641</th>\n",
       "      <td>9665</td>\n",
       "      <td>25300</td>\n",
       "      <td>9B55594B1361</td>\n",
       "      <td>In my personal opinion, I think that it would ...</td>\n",
       "      <td>0</td>\n",
       "      <td>persuade_corpus</td>\n",
       "      <td>NaN</td>\n",
       "      <td>2</td>\n",
       "      <td>0persuade_corpus</td>\n",
       "      <td>0.001341</td>\n",
       "      <td>False</td>\n",
       "    </tr>\n",
       "  </tbody>\n",
       "</table>\n",
       "<p>5642 rows × 11 columns</p>\n",
       "</div>"
      ],
      "text/plain": [
       "      level_0  index               essay_id  \\\n",
       "0       24614  35296           F610C7BCD9EC   \n",
       "1        9200  13516           1C8564154C20   \n",
       "2       16015  14628               4f6e7659   \n",
       "3       19839  23655     falcon_180b_v1_215   \n",
       "4        4425  41792           CACD190CAD6D   \n",
       "...       ...    ...                    ...   \n",
       "5637     7912  16816           0E233FF39D2B   \n",
       "5638    25614  37810           66241AEC8351   \n",
       "5639    26124  39089  darragh_claude_v7_417   \n",
       "5640     6434   5525           34A590772E2D   \n",
       "5641     9665  25300           9B55594B1361   \n",
       "\n",
       "                                                   text  label  \\\n",
       "0     As an eighth-grade student, I believe that att...      1   \n",
       "1     Dear, TEACHER_NAME, I think the rule for no ce...      0   \n",
       "2     [Your Name]\\n[Your Address]\\n[City, State, ZIP...      1   \n",
       "3     I completely disagree with the principal's dec...      1   \n",
       "4     I am against the value of using this technolog...      0   \n",
       "...                                                 ...    ...   \n",
       "5637  In twenty five years there had appeared someth...      0   \n",
       "5638   Changing our school menu to more nutritious o...      1   \n",
       "5639  The use of facial expression recognition techn...      1   \n",
       "5640  We have all been in situations were we need ad...      0   \n",
       "5641  In my personal opinion, I think that it would ...      0   \n",
       "\n",
       "                    source                                             prompt  \\\n",
       "0     mistral7binstruct_v1                                                NaN   \n",
       "1          persuade_corpus                                                NaN   \n",
       "2                radek_500                                                NaN   \n",
       "3           falcon_180b_v1  Your principal has decided that all students m...   \n",
       "4          persuade_corpus                                                NaN   \n",
       "...                    ...                                                ...   \n",
       "5637       persuade_corpus                                                NaN   \n",
       "5638  mistral7binstruct_v2  \\nTask: Research the benefits of eating health...   \n",
       "5639     darragh_claude_v7  In the article \"Making Mona Lisa Smile,\" the a...   \n",
       "5640       persuade_corpus                                                NaN   \n",
       "5641       persuade_corpus                                                NaN   \n",
       "\n",
       "      fold               stratify     preds     AI  \n",
       "0        3  1mistral7binstruct_v1  0.999989   True  \n",
       "1        4       0persuade_corpus  0.003226  False  \n",
       "2        6             1radek_500  0.999986   True  \n",
       "3        1        1falcon_180b_v1  0.999989   True  \n",
       "4        3       0persuade_corpus  0.000933  False  \n",
       "...    ...                    ...       ...    ...  \n",
       "5637     0       0persuade_corpus  0.000228  False  \n",
       "5638     4  1mistral7binstruct_v2  0.999988   True  \n",
       "5639     8     1darragh_claude_v7  0.999989   True  \n",
       "5640     1       0persuade_corpus  0.000234  False  \n",
       "5641     2       0persuade_corpus  0.001341  False  \n",
       "\n",
       "[5642 rows x 11 columns]"
      ]
     },
     "execution_count": 18,
     "metadata": {},
     "output_type": "execute_result"
    }
   ],
   "source": [
    "val_df"
   ]
  },
  {
   "cell_type": "code",
   "execution_count": 19,
   "id": "33c6b700",
   "metadata": {
    "execution": {
     "iopub.execute_input": "2024-01-28T22:04:43.572249Z",
     "iopub.status.busy": "2024-01-28T22:04:43.571977Z",
     "iopub.status.idle": "2024-01-28T22:04:43.584311Z",
     "shell.execute_reply": "2024-01-28T22:04:43.583493Z"
    },
    "papermill": {
     "duration": 0.025343,
     "end_time": "2024-01-28T22:04:43.586236",
     "exception": false,
     "start_time": "2024-01-28T22:04:43.560893",
     "status": "completed"
    },
    "tags": []
   },
   "outputs": [
    {
     "data": {
      "text/plain": [
       "0.9995246534628197"
      ]
     },
     "execution_count": 19,
     "metadata": {},
     "output_type": "execute_result"
    }
   ],
   "source": [
    "import numpy as np\n",
    "from sklearn import metrics\n",
    "metrics.roc_auc_score(val_df['label'], val_df['preds'])\n"
   ]
  },
  {
   "cell_type": "markdown",
   "id": "4e253223",
   "metadata": {
    "papermill": {
     "duration": 0.010287,
     "end_time": "2024-01-28T22:04:43.607103",
     "exception": false,
     "start_time": "2024-01-28T22:04:43.596816",
     "status": "completed"
    },
    "tags": []
   },
   "source": [
    "The auc_ruc_score of validation set is 0.99. However, the final score (using test set, which is inaccessible) is only 0.75. <br>\n",
    "The result suggested that I may over fitting the model. <br> \n",
    "Another possibility is that the alternative dataset used to train the model is not similar to test set. <br>"
   ]
  },
  {
   "cell_type": "markdown",
   "id": "75cfa18e",
   "metadata": {
    "papermill": {
     "duration": 0.010363,
     "end_time": "2024-01-28T22:04:43.627932",
     "exception": false,
     "start_time": "2024-01-28T22:04:43.617569",
     "status": "completed"
    },
    "tags": []
   },
   "source": [
    "To have a glimpse on the model's prediction, I randomly pick one essay predicted writen by LLM, and one written by student"
   ]
  },
  {
   "cell_type": "code",
   "execution_count": 20,
   "id": "c1909fc7",
   "metadata": {
    "execution": {
     "iopub.execute_input": "2024-01-28T22:04:43.650343Z",
     "iopub.status.busy": "2024-01-28T22:04:43.649600Z",
     "iopub.status.idle": "2024-01-28T22:04:43.657565Z",
     "shell.execute_reply": "2024-01-28T22:04:43.656755Z"
    },
    "papermill": {
     "duration": 0.020978,
     "end_time": "2024-01-28T22:04:43.659432",
     "exception": false,
     "start_time": "2024-01-28T22:04:43.638454",
     "status": "completed"
    },
    "tags": []
   },
   "outputs": [],
   "source": [
    "sample_predict_AI = val_df.loc[val_df['AI'] == True].iloc[0]['text']\n",
    "sample_predict_student = val_df.loc[val_df['AI'] == False].iloc[0]['text']"
   ]
  },
  {
   "cell_type": "markdown",
   "id": "fb5c4953",
   "metadata": {
    "papermill": {
     "duration": 0.010391,
     "end_time": "2024-01-28T22:04:43.680381",
     "exception": false,
     "start_time": "2024-01-28T22:04:43.669990",
     "status": "completed"
    },
    "tags": []
   },
   "source": [
    "The one predicted written by LLM"
   ]
  },
  {
   "cell_type": "code",
   "execution_count": 21,
   "id": "15d6e133",
   "metadata": {
    "execution": {
     "iopub.execute_input": "2024-01-28T22:04:43.703623Z",
     "iopub.status.busy": "2024-01-28T22:04:43.703359Z",
     "iopub.status.idle": "2024-01-28T22:04:43.708489Z",
     "shell.execute_reply": "2024-01-28T22:04:43.707670Z"
    },
    "papermill": {
     "duration": 0.018321,
     "end_time": "2024-01-28T22:04:43.710404",
     "exception": false,
     "start_time": "2024-01-28T22:04:43.692083",
     "status": "completed"
    },
    "tags": []
   },
   "outputs": [
    {
     "data": {
      "text/plain": [
       "'As an eighth-grade student, I believe that attending classes from home has both advantages and disadvantages. While online classes offer flexibility and convenience, they can also lead to a lack of social interaction and a lack of accountability.\\n\\nOne of the biggest advantages of attending classes from home is the flexibility that it offers. Students can learn at their own pace, on their own schedule. This is particularly helpful for students who have other commitments, such as jobs or family responsibilities. For example, a student who works part-time may be able to attend classes in the early morning or late evening, when they are not working.\\n\\nAnother advantage of online classes is the convenience that they offer. Students can attend classes from the comfort of their own home, without having to worry about commuting or finding a parking spot. This can be particularly helpful for students who live far from their school or who have mobility issues. For example, a student who lives in a rural area may be able to attend classes online, even if their school is located far away.\\n\\nHowever, attending classes from home also has its drawbacks. One of the biggest disadvantages is the lack of social interaction that it can lead to. Students who attend classes from home may feel isolated and disconnected from their peers. This can be particularly harmful for students who are new to a school or who are struggling to make friends. For example, a student who has just moved to a new town may feel lonely and isolated if they attend classes from home.\\n\\nAnother disadvantage of online classes is the lack of accountability that they can lead to. Students who attend classes from home may be more likely to procrastinate or skip classes, since they are not physically present in the classroom. This can lead to lower grades and a lack of motivation. For example, a student who is struggling with a particular subject may be more likely to skip classes if they are attending online, since they are not physically present in the classroom to receive help or support.\\n\\nIn conclusion, attending classes from home has both advantages and disadvantages. While online classes offer flexibility and convenience, they can also lead to a lack of social interaction and a lack of accountability. As an eighth-grade student, I believe that it is important for students to weigh these pros and cons carefully before deciding whether to attend classes from home or in person.'"
      ]
     },
     "execution_count": 21,
     "metadata": {},
     "output_type": "execute_result"
    }
   ],
   "source": [
    "sample_predict_AI"
   ]
  },
  {
   "cell_type": "markdown",
   "id": "519030c6",
   "metadata": {
    "papermill": {
     "duration": 0.010547,
     "end_time": "2024-01-28T22:04:43.731565",
     "exception": false,
     "start_time": "2024-01-28T22:04:43.721018",
     "status": "completed"
    },
    "tags": []
   },
   "source": [
    "The one predicted written by student"
   ]
  },
  {
   "cell_type": "code",
   "execution_count": 22,
   "id": "676dd88c",
   "metadata": {
    "execution": {
     "iopub.execute_input": "2024-01-28T22:04:43.754341Z",
     "iopub.status.busy": "2024-01-28T22:04:43.753585Z",
     "iopub.status.idle": "2024-01-28T22:04:43.758680Z",
     "shell.execute_reply": "2024-01-28T22:04:43.757911Z"
    },
    "papermill": {
     "duration": 0.01822,
     "end_time": "2024-01-28T22:04:43.760482",
     "exception": false,
     "start_time": "2024-01-28T22:04:43.742262",
     "status": "completed"
    },
    "tags": []
   },
   "outputs": [
    {
     "data": {
      "text/plain": [
       "'Dear, TEACHER_NAME, I think the rule for no cell phones is perfect because, if they are using they`er cell phones they could be on some really very inaporapit things on it that is if they have internet on it. I also think that it could get stolen. I also think that they could get smashed to isty bity pieces. I also think that some bully could try to steal it to make you feel bad. I also thinl that it could get lost. I also think that it could fall into the wrong hands. I also think that it could get stepped on by acident. I also think that it could get thrown to the woods. I also think that it could get stomped by some bully to make you feel bad. I also think it also could be used for un apporite songs. I also think it could be used for unapporite texting. I also think that it could be used for unapporite ring tones. I also think that it could be used for unapporite pictures. I also think that it could be used for unapporite site seeing from the web, that is if you do have internet. I also think that it could be used for unapporite cell phone games. I also think that it could be used for unapporite soft ware. I also think that it could be used for unapporite.'"
      ]
     },
     "execution_count": 22,
     "metadata": {},
     "output_type": "execute_result"
    }
   ],
   "source": [
    "sample_predict_student"
   ]
  },
  {
   "cell_type": "markdown",
   "id": "d8d0dafb",
   "metadata": {
    "papermill": {
     "duration": 0.010433,
     "end_time": "2024-01-28T22:04:43.781702",
     "exception": false,
     "start_time": "2024-01-28T22:04:43.771269",
     "status": "completed"
    },
    "tags": []
   },
   "source": [
    "Apparently, the one predicted written by LLM is better written "
   ]
  },
  {
   "cell_type": "markdown",
   "id": "fb1abed9",
   "metadata": {
    "papermill": {
     "duration": 0.010644,
     "end_time": "2024-01-28T22:04:43.803272",
     "exception": false,
     "start_time": "2024-01-28T22:04:43.792628",
     "status": "completed"
    },
    "tags": []
   },
   "source": [
    "## Demo\n",
    "The last part, I build the model's demo using hugging face and gradio<br>\n",
    "Noted that the free version of hardware does not support GPU.\n",
    "Also, the code is not yet optimized. <br>\n",
    "Thus, it may take the app around 20 seconds to determine whether the article is generated by LLM.\n",
    "Also, the more words provide, the more precise it becomes"
   ]
  },
  {
   "cell_type": "code",
   "execution_count": 23,
   "id": "d744a8d2",
   "metadata": {
    "execution": {
     "iopub.execute_input": "2024-01-28T22:04:43.826000Z",
     "iopub.status.busy": "2024-01-28T22:04:43.825452Z",
     "iopub.status.idle": "2024-01-28T22:04:43.832148Z",
     "shell.execute_reply": "2024-01-28T22:04:43.831339Z"
    },
    "papermill": {
     "duration": 0.019951,
     "end_time": "2024-01-28T22:04:43.833974",
     "exception": false,
     "start_time": "2024-01-28T22:04:43.814023",
     "status": "completed"
    },
    "tags": []
   },
   "outputs": [],
   "source": [
    "def trial(text):\n",
    "     \n",
    "    tokenized = tokenizer.encode_plus(text,\n",
    "                                          None,\n",
    "                                          add_special_tokens=True,\n",
    "                                          max_length= config['max_length'],\n",
    "                                          truncation=True,\n",
    "                                          padding=\"max_length\"\n",
    "                                         )\n",
    "    inputs = {\n",
    "           \"input_ids\": torch.tensor(tokenized['input_ids'],dtype=torch.long),\n",
    "            \"token_type_ids\": torch.tensor(tokenized['token_type_ids'],dtype=torch.long),\n",
    "            \"attention_mask\": torch.tensor(tokenized['attention_mask'],dtype = torch.long)\n",
    "        } \n",
    "    inputs = {k:inputs[k].unsqueeze(0).to(device=config['device']) for k in inputs.keys()}\n",
    "        \n",
    "    if model(inputs).item()>=0.5:\n",
    "        return \"AI\"\n",
    "    else:\n",
    "        return \"Student\"\n",
    "\n"
   ]
  },
  {
   "cell_type": "code",
   "execution_count": 24,
   "id": "2d2968aa",
   "metadata": {
    "execution": {
     "iopub.execute_input": "2024-01-28T22:04:43.856342Z",
     "iopub.status.busy": "2024-01-28T22:04:43.856013Z",
     "iopub.status.idle": "2024-01-28T22:05:07.607651Z",
     "shell.execute_reply": "2024-01-28T22:05:07.606452Z"
    },
    "papermill": {
     "duration": 23.76558,
     "end_time": "2024-01-28T22:05:07.610256",
     "exception": false,
     "start_time": "2024-01-28T22:04:43.844676",
     "status": "completed"
    },
    "tags": []
   },
   "outputs": [
    {
     "name": "stderr",
     "output_type": "stream",
     "text": [
      "huggingface/tokenizers: The current process just got forked, after parallelism has already been used. Disabling parallelism to avoid deadlocks...\n",
      "To disable this warning, you can either:\n",
      "\t- Avoid using `tokenizers` before the fork if possible\n",
      "\t- Explicitly set the environment variable TOKENIZERS_PARALLELISM=(true | false)\n"
     ]
    }
   ],
   "source": [
    "!pip install -q gradio==3.45.0"
   ]
  },
  {
   "cell_type": "code",
   "execution_count": 25,
   "id": "7258591f",
   "metadata": {
    "execution": {
     "iopub.execute_input": "2024-01-28T22:05:07.634459Z",
     "iopub.status.busy": "2024-01-28T22:05:07.633778Z",
     "iopub.status.idle": "2024-01-28T22:05:09.174340Z",
     "shell.execute_reply": "2024-01-28T22:05:09.173379Z"
    },
    "papermill": {
     "duration": 1.555081,
     "end_time": "2024-01-28T22:05:09.176743",
     "exception": false,
     "start_time": "2024-01-28T22:05:07.621662",
     "status": "completed"
    },
    "tags": []
   },
   "outputs": [],
   "source": [
    "import gradio as gr"
   ]
  },
  {
   "cell_type": "code",
   "execution_count": 26,
   "id": "e9b99723",
   "metadata": {
    "execution": {
     "iopub.execute_input": "2024-01-28T22:05:09.200345Z",
     "iopub.status.busy": "2024-01-28T22:05:09.200004Z",
     "iopub.status.idle": "2024-01-28T22:05:17.971258Z",
     "shell.execute_reply": "2024-01-28T22:05:17.970301Z"
    },
    "papermill": {
     "duration": 8.785072,
     "end_time": "2024-01-28T22:05:17.973259",
     "exception": false,
     "start_time": "2024-01-28T22:05:09.188187",
     "status": "completed"
    },
    "tags": []
   },
   "outputs": [
    {
     "name": "stdout",
     "output_type": "stream",
     "text": [
      "Running on local URL:  http://127.0.0.1:7860\n",
      "Running on public URL: https://63443bcf059a9d7f45.gradio.live\n",
      "\n",
      "This share link expires in 72 hours. For free permanent hosting and GPU upgrades, run `gradio deploy` from Terminal to deploy to Spaces (https://huggingface.co/spaces)\n"
     ]
    },
    {
     "data": {
      "text/html": [
       "<div><iframe src=\"https://63443bcf059a9d7f45.gradio.live\" width=\"100%\" height=\"500\" allow=\"autoplay; camera; microphone; clipboard-read; clipboard-write;\" frameborder=\"0\" allowfullscreen></iframe></div>"
      ],
      "text/plain": [
       "<IPython.core.display.HTML object>"
      ]
     },
     "metadata": {},
     "output_type": "display_data"
    },
    {
     "data": {
      "text/plain": []
     },
     "execution_count": 26,
     "metadata": {},
     "output_type": "execute_result"
    }
   ],
   "source": [
    "demo = gr.Interface(\n",
    "    fn=trial,\n",
    "    inputs=gr.Textbox(placeholder=\"...\"),\n",
    "    outputs=\"textbox\"\n",
    "    )\n",
    "\n",
    "demo.launch(share=True)"
   ]
  },
  {
   "cell_type": "markdown",
   "id": "1c2b1713",
   "metadata": {
    "papermill": {
     "duration": 0.011286,
     "end_time": "2024-01-28T22:05:17.996251",
     "exception": false,
     "start_time": "2024-01-28T22:05:17.984965",
     "status": "completed"
    },
    "tags": []
   },
   "source": [
    "The demo can be found https://huggingface.co/spaces/kaitehtzeng/primary_app. <br>\n",
    "The protoype app can determine whether the text is written by students or LLM <br>"
   ]
  }
 ],
 "metadata": {
  "kaggle": {
   "accelerator": "gpu",
   "dataSources": [
    {
     "databundleVersionId": 7516023,
     "sourceId": 61542,
     "sourceType": "competition"
    },
    {
     "datasetId": 3946973,
     "sourceId": 6867914,
     "sourceType": "datasetVersion"
    },
    {
     "datasetId": 3942644,
     "sourceId": 6890527,
     "sourceType": "datasetVersion"
    },
    {
     "sourceId": 137768005,
     "sourceType": "kernelVersion"
    },
    {
     "sourceId": 160703652,
     "sourceType": "kernelVersion"
    }
   ],
   "dockerImageVersionId": 30627,
   "isGpuEnabled": true,
   "isInternetEnabled": true,
   "language": "python",
   "sourceType": "notebook"
  },
  "kernelspec": {
   "display_name": "Python 3",
   "language": "python",
   "name": "python3"
  },
  "language_info": {
   "codemirror_mode": {
    "name": "ipython",
    "version": 3
   },
   "file_extension": ".py",
   "mimetype": "text/x-python",
   "name": "python",
   "nbconvert_exporter": "python",
   "pygments_lexer": "ipython3",
   "version": "3.10.12"
  },
  "papermill": {
   "default_parameters": {},
   "duration": 244.03947,
   "end_time": "2024-01-28T22:05:20.726236",
   "environment_variables": {},
   "exception": null,
   "input_path": "__notebook__.ipynb",
   "output_path": "__notebook__.ipynb",
   "parameters": {},
   "start_time": "2024-01-28T22:01:16.686766",
   "version": "2.4.0"
  }
 },
 "nbformat": 4,
 "nbformat_minor": 5
}
